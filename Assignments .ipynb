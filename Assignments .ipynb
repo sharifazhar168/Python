{
 "cells": [
  {
   "cell_type": "code",
   "execution_count": 1,
   "id": "1a836286",
   "metadata": {},
   "outputs": [
    {
     "name": "stdout",
     "output_type": "stream",
     "text": [
      "146.0\n"
     ]
    }
   ],
   "source": [
    "a=90\n",
    "b=80\n",
    "c=70\n",
    "d=100\n",
    "e=a+b*c/d\n",
    "print(e)"
   ]
  },
  {
   "cell_type": "code",
   "execution_count": 2,
   "id": "88502f3f",
   "metadata": {},
   "outputs": [
    {
     "name": "stdout",
     "output_type": "stream",
     "text": [
      "180.0\n"
     ]
    }
   ],
   "source": [
    "a=40\n",
    "b=20\n",
    "c=30\n",
    "d=10\n",
    "e=((a+b)*c)/d\n",
    "print(e)"
   ]
  },
  {
   "cell_type": "code",
   "execution_count": 3,
   "id": "e0d3abd3",
   "metadata": {},
   "outputs": [
    {
     "name": "stdout",
     "output_type": "stream",
     "text": [
      "200.0\n"
     ]
    }
   ],
   "source": [
    "A=200\n",
    "B=10\n",
    "C=10\n",
    "D=A/B*C\n",
    "print(D)"
   ]
  },
  {
   "cell_type": "code",
   "execution_count": 4,
   "id": "4d1ba23e",
   "metadata": {},
   "outputs": [
    {
     "name": "stdout",
     "output_type": "stream",
     "text": [
      "81\n"
     ]
    }
   ],
   "source": [
    "a=3\n",
    "b=2\n",
    "c=2\n",
    "d=a**b**c\n",
    "print(d)"
   ]
  },
  {
   "cell_type": "code",
   "execution_count": 9,
   "id": "7d766ff6",
   "metadata": {},
   "outputs": [
    {
     "name": "stdout",
     "output_type": "stream",
     "text": [
      "True\n",
      "100\n"
     ]
    }
   ],
   "source": [
    "var1 = 100\n",
    "if var1:\n",
    "    print (\"True\")\n",
    "    print (var1)\n",
    "else:\n",
    "    print (\"false\")\n",
    "    print (var1)"
   ]
  },
  {
   "cell_type": "code",
   "execution_count": 18,
   "id": "b1a89811",
   "metadata": {},
   "outputs": [
    {
     "name": "stdout",
     "output_type": "stream",
     "text": [
      "True\n",
      "100\n",
      "false\n",
      "0\n",
      "Good bye!\n"
     ]
    }
   ],
   "source": [
    "var1 = 100\n",
    "if var1:\n",
    "    print (\"True\")\n",
    "    print (var1)\n",
    "else:\n",
    "    print (\"false\")\n",
    "    print (var1)\n",
    "var2 = 0\n",
    "if var2:\n",
    "    print (\"True\")\n",
    "    print (var2)\n",
    "else:\n",
    "    print (\"false\")\n",
    "    print (var2)\n",
    "print (\"Good bye!\")    "
   ]
  },
  {
   "cell_type": "code",
   "execution_count": 19,
   "id": "c3f09154",
   "metadata": {},
   "outputs": [
    {
     "name": "stdout",
     "output_type": "stream",
     "text": [
      "The sum is 55\n"
     ]
    }
   ],
   "source": [
    "n = 10\n",
    "sum = 0\n",
    "i = 1\n",
    "while i <= n:\n",
    "    sum = sum + i\n",
    "    i = i+1\n",
    "print(\"The sum is\", sum)    \n",
    "    \n"
   ]
  },
  {
   "cell_type": "code",
   "execution_count": 21,
   "id": "456da652",
   "metadata": {},
   "outputs": [
    {
     "name": "stdout",
     "output_type": "stream",
     "text": [
      "The sum is 11\n"
     ]
    }
   ],
   "source": [
    "n = 10\n",
    "\n",
    "i = 0\n",
    "while i <= n:\n",
    "#     sum = sum + i\n",
    "    i = i+1\n",
    "print(\"The sum is\", i) "
   ]
  },
  {
   "cell_type": "code",
   "execution_count": 25,
   "id": "0cee8b7c",
   "metadata": {},
   "outputs": [],
   "source": [
    "myvar = \"john\"\n",
    "my_var = \"john\"\n",
    "_my_var = \"john\"\n",
    "myVar = \"john\"\n",
    "MYVAR = \"john\"\n",
    "myvar2 = \"john\"\n"
   ]
  },
  {
   "cell_type": "code",
   "execution_count": 26,
   "id": "a5d072a1",
   "metadata": {},
   "outputs": [
    {
     "ename": "SyntaxError",
     "evalue": "invalid syntax (<ipython-input-26-6a23af1ec489>, line 1)",
     "output_type": "error",
     "traceback": [
      "\u001b[1;36m  File \u001b[1;32m\"<ipython-input-26-6a23af1ec489>\"\u001b[1;36m, line \u001b[1;32m1\u001b[0m\n\u001b[1;33m    2myvar = \"john\"\u001b[0m\n\u001b[1;37m     ^\u001b[0m\n\u001b[1;31mSyntaxError\u001b[0m\u001b[1;31m:\u001b[0m invalid syntax\n"
     ]
    }
   ],
   "source": [
    "2myvar = \"john\""
   ]
  },
  {
   "cell_type": "code",
   "execution_count": 23,
   "id": "90acfc1b",
   "metadata": {},
   "outputs": [
    {
     "ename": "SyntaxError",
     "evalue": "cannot assign to operator (<ipython-input-23-30688e35a7f5>, line 1)",
     "output_type": "error",
     "traceback": [
      "\u001b[1;36m  File \u001b[1;32m\"<ipython-input-23-30688e35a7f5>\"\u001b[1;36m, line \u001b[1;32m1\u001b[0m\n\u001b[1;33m    my-var = \"john\"\u001b[0m\n\u001b[1;37m    ^\u001b[0m\n\u001b[1;31mSyntaxError\u001b[0m\u001b[1;31m:\u001b[0m cannot assign to operator\n"
     ]
    }
   ],
   "source": [
    "my-var = \"john\""
   ]
  },
  {
   "cell_type": "code",
   "execution_count": 24,
   "id": "92ecaa82",
   "metadata": {},
   "outputs": [
    {
     "ename": "SyntaxError",
     "evalue": "invalid syntax (<ipython-input-24-12aa33166c55>, line 1)",
     "output_type": "error",
     "traceback": [
      "\u001b[1;36m  File \u001b[1;32m\"<ipython-input-24-12aa33166c55>\"\u001b[1;36m, line \u001b[1;32m1\u001b[0m\n\u001b[1;33m    my var = \"john\"\u001b[0m\n\u001b[1;37m       ^\u001b[0m\n\u001b[1;31mSyntaxError\u001b[0m\u001b[1;31m:\u001b[0m invalid syntax\n"
     ]
    }
   ],
   "source": [
    "my var = \"john\"\n"
   ]
  },
  {
   "cell_type": "code",
   "execution_count": null,
   "id": "a9cfeee2",
   "metadata": {},
   "outputs": [],
   "source": []
  }
 ],
 "metadata": {
  "kernelspec": {
   "display_name": "Python 3",
   "language": "python",
   "name": "python3"
  },
  "language_info": {
   "codemirror_mode": {
    "name": "ipython",
    "version": 3
   },
   "file_extension": ".py",
   "mimetype": "text/x-python",
   "name": "python",
   "nbconvert_exporter": "python",
   "pygments_lexer": "ipython3",
   "version": "3.8.8"
  }
 },
 "nbformat": 4,
 "nbformat_minor": 5
}
